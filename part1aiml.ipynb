{
  "nbformat": 4,
  "nbformat_minor": 0,
  "metadata": {
    "colab": {
      "provenance": [],
      "authorship_tag": "ABX9TyNDCDu338tGCkkJWuEvu6wA",
      "include_colab_link": true
    },
    "kernelspec": {
      "name": "python3",
      "display_name": "Python 3"
    },
    "language_info": {
      "name": "python"
    }
  },
  "cells": [
    {
      "cell_type": "markdown",
      "metadata": {
        "id": "view-in-github",
        "colab_type": "text"
      },
      "source": [
        "<a href=\"https://colab.research.google.com/github/2303a52051/23CSBTB39-40/blob/main/part1aiml.ipynb\" target=\"_parent\"><img src=\"https://colab.research.google.com/assets/colab-badge.svg\" alt=\"Open In Colab\"/></a>"
      ]
    },
    {
      "cell_type": "markdown",
      "source": [
        "Part 1 – Implement Basic Data Structures using Numpy, Pandas"
      ],
      "metadata": {
        "id": "3qKtZ4pU-8iD"
      }
    },
    {
      "cell_type": "code",
      "execution_count": 1,
      "metadata": {
        "colab": {
          "base_uri": "https://localhost:8080/"
        },
        "id": "SLYSHEW0-5mM",
        "outputId": "662641c5-511d-4f14-af76-1d93598cc1a4"
      },
      "outputs": [
        {
          "output_type": "stream",
          "name": "stdout",
          "text": [
            "[1, 2, 3, 4, 5]\n",
            "[10, 11, 6, 7, 8]\n",
            "<class 'list'>\n",
            "<class 'list'>\n"
          ]
        }
      ],
      "source": [
        "import numpy as np\n",
        "import pandas as pd\n",
        "\n",
        "list1=[1,2,3,4,5]\n",
        "list2=[10,11,6,7,8]\n",
        "print(list1)\n",
        "print(list2)\n",
        "print(type(list1))\n",
        "print(type(list2))"
      ]
    },
    {
      "cell_type": "code",
      "source": [
        "str_list = \"Welcome to Guru99\"\n",
        "age=50\n",
        "pi=3.14\n",
        "c_num=3j+10\n",
        "my_list=[\"A\",\"B\",\"C\",\"D\"]\n",
        "my_tuple=(\"A\",\"B\",\"C\",\"D\")\n",
        "my_dict={\"A\":\"a\",\"B\":\"b\",\"C\":\"c\",\"D\":\"d\"}\n",
        "my_set={'A','B','C','D'}\n",
        "print(my_list)\n",
        "print(my_tuple)\n",
        "print(my_dict)\n",
        "print(my_set)"
      ],
      "metadata": {
        "colab": {
          "base_uri": "https://localhost:8080/"
        },
        "id": "6AYYGbl8DEG7",
        "outputId": "65aaa005-1145-4e4c-f573-b3a1d0bce45a"
      },
      "execution_count": 4,
      "outputs": [
        {
          "output_type": "stream",
          "name": "stdout",
          "text": [
            "['A', 'B', 'C', 'D']\n",
            "('A', 'B', 'C', 'D')\n",
            "{'A': 'a', 'B': 'b', 'C': 'c', 'D': 'd'}\n",
            "{'B', 'D', 'C', 'A'}\n"
          ]
        }
      ]
    }
  ]
}